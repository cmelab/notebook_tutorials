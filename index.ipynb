{
 "cells": [
  {
   "cell_type": "markdown",
   "metadata": {},
   "source": [
    "\n",
    "## Tutorials\n",
    "These tutorials highlight the following tools from [MoSDeF](https://mosdef.org/) and [Glotzer group](https://github.com/glotzerlab): \n",
    "[mbuild](https://mbuild.mosdef.org/en/stable/), [foyer](https://foyer.mosdef.org/en/latest/), [hoomd](https://hoomd-blue.readthedocs.io/en/stable/), [freud](https://freud.readthedocs.io/en/stable/fresnel), [fresnel](https://fresnel.readthedocs.io/en/stable/).\n",
    "\n",
    "1. [Initializing a system to a specific density](MD_density.ipynb) \n",
    " * This tutorial will explain some of the common pitfalls of initializing a system at high density and how to overcome them by using a \"shrink step\".\n",
    "1. [Radial Distribution Function](radial-distribution-function.ipynb) \n",
    " * This tutorial demonstrates how to calculate the RDF and shows how the temperature affects the system.\n",
    "1. [Organic Photovoltaic Simulation](opv_sim.ipynb) \n",
    " * This tutorial demonstrates how to set up, run, and analyze a molecular dynamics simulation of a conjugated polymer. \n",
    "1. [Temperature/Thermostat](temperature-thermostat.ipynb)\n",
    "1. [Intro to Molecular Dynamics - (WIP)](MD_intro.ipynb`)"
   ]
  }
 ],
 "metadata": {
  "kernelspec": {
   "display_name": "Python 3",
   "language": "python",
   "name": "python3"
  },
  "language_info": {
   "codemirror_mode": {
    "name": "ipython",
    "version": 3
   },
   "file_extension": ".py",
   "mimetype": "text/x-python",
   "name": "python",
   "nbconvert_exporter": "python",
   "pygments_lexer": "ipython3",
   "version": "3.8.5"
  }
 },
 "nbformat": 4,
 "nbformat_minor": 4
}
